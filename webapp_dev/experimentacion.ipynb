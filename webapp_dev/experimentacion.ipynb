{
 "cells": [
  {
   "cell_type": "code",
   "execution_count": 5,
   "metadata": {},
   "outputs": [],
   "source": [
    "import spacy\n",
    "\n",
    "nlp = spacy.load('es_core_news_sm')"
   ]
  },
  {
   "cell_type": "code",
   "execution_count": 10,
   "metadata": {},
   "outputs": [
    {
     "name": "stdout",
     "output_type": "stream",
     "text": [
      "Tesla PROPN nsubj\n",
      "busca VERB ROOT\n",
      "comprar VERB xcomp\n",
      "una DET det\n",
      "empresa NOUN obj\n",
      "de ADP case\n",
      "U.K PROPN nmod\n"
     ]
    }
   ],
   "source": [
    "doc = nlp(u'Tesla busca comprar una empresa de U.K')\n",
    "\n",
    "for token in doc:\n",
    "    print(token.text, token.pos_, token.dep_)"
   ]
  }
 ],
 "metadata": {
  "interpreter": {
   "hash": "212d4c530a4c7cade34a7db8f3d2ced2313549e5e46a0b3fad52768d72ae814a"
  },
  "kernelspec": {
   "display_name": "Python 3.7.0",
   "language": "python",
   "name": "python3"
  },
  "language_info": {
   "codemirror_mode": {
    "name": "ipython",
    "version": 3
   },
   "file_extension": ".py",
   "mimetype": "text/x-python",
   "name": "python",
   "nbconvert_exporter": "python",
   "pygments_lexer": "ipython3",
   "version": "3.9.8"
  },
  "orig_nbformat": 4
 },
 "nbformat": 4,
 "nbformat_minor": 2
}
