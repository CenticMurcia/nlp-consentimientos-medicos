{
 "cells": [
  {
   "cell_type": "code",
   "execution_count": 7,
   "metadata": {},
   "outputs": [
    {
     "data": {
      "text/plain": [
       "'for sentence in obj:\\n    for word in sentence:\\n        print(word)'"
      ]
     },
     "execution_count": 7,
     "metadata": {},
     "output_type": "execute_result"
    }
   ],
   "source": [
    "#-*- coding: utf-8 -*-\n",
    "import requests\n",
    "\n",
    "#Archivo a ser enviado\n",
    "files = {'file': open('../data/SP - January - 2021 - Txt files/4111_OR_ES.txt', 'rb')}\n",
    "#Parámetros\n",
    "params = {'outf': 'tagged', 'format': 'json'}\n",
    "#Enviar petición\n",
    "url = \"http://www.corpus.unam.mx/servicio-freeling/analyze.php\"\n",
    "r = requests.post(url, files=files, params=params)\n",
    "#Convertir de formato json\n",
    "obj = r.json()\n",
    "\n",
    "# Ejemplo, obtener todos los lemas\n",
    "# for sentence in obj:\n",
    "#     for word in sentence:\n",
    "#         print(word)"
   ]
  }
 ],
 "metadata": {
  "interpreter": {
   "hash": "212d4c530a4c7cade34a7db8f3d2ced2313549e5e46a0b3fad52768d72ae814a"
  },
  "kernelspec": {
   "display_name": "Python 3.7.0",
   "language": "python",
   "name": "python3"
  },
  "language_info": {
   "codemirror_mode": {
    "name": "ipython",
    "version": 3
   },
   "file_extension": ".py",
   "mimetype": "text/x-python",
   "name": "python",
   "nbconvert_exporter": "python",
   "pygments_lexer": "ipython3",
   "version": "3.9.8"
  },
  "orig_nbformat": 4
 },
 "nbformat": 4,
 "nbformat_minor": 2
}
